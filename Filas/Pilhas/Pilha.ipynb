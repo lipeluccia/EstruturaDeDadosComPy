{
 "cells": [
  {
   "cell_type": "markdown",
   "metadata": {},
   "source": [
    "## Implementação de Pilha"
   ]
  },
  {
   "cell_type": "code",
   "execution_count": 23,
   "metadata": {},
   "outputs": [],
   "source": [
    "class Node:\n",
    "    def __init__(self, data):\n",
    "        self.data = data\n",
    "        self.proximo = None\n"
   ]
  },
  {
   "cell_type": "code",
   "execution_count": 24,
   "metadata": {},
   "outputs": [],
   "source": [
    "class Pilha:\n",
    "    def __init__(self):\n",
    "        self.top = None\n",
    "\n",
    "# Adiciona um elemento ao topo da pilha.\n",
    "    def push(self, data):\n",
    "        new_node = Node(data)\n",
    "        new_node.next = self.top\n",
    "        self.top = new_node\n",
    "\n",
    "# Remove e retorna o elemento do topo da pilha.\n",
    "    def pop(self):\n",
    "        if self.top is not None:\n",
    "            removed = self.top\n",
    "            self.top = self.top.next\n",
    "            return removed.data\n",
    "        else:\n",
    "            raise Exception(\"Pilha vazia.\")\n",
    "\n",
    "# Retorna o elemento do topo da pilha sem removê-lo.\n",
    "    def peek(self):\n",
    "        if self.top is not None:\n",
    "            return self.top.data\n",
    "        else:\n",
    "            raise Exception(\"Pilha vazia.\")\n"
   ]
  },
  {
   "cell_type": "code",
   "execution_count": 25,
   "metadata": {},
   "outputs": [],
   "source": [
    "class Pilha(Pilha):\n",
    "# Verifica se a pilha está vazia.\n",
    "    def is_empty(self):\n",
    "        return self.top is None\n",
    "    \n",
    "    # if self.top is None:\n",
    "    #     return True\n",
    "    # else:\n",
    "    #     return False"
   ]
  },
  {
   "cell_type": "code",
   "execution_count": 27,
   "metadata": {},
   "outputs": [],
   "source": [
    "# pilha = Pilha()\n",
    "# print(pilha.is_empty())\n",
    "\n",
    "# pilha.push(1)\n",
    "# pilha.push(2)\n",
    "# pilha.push(3)\n",
    "\n",
    "# print(pilha.is_empty())\n",
    "\n",
    "# print(pilha.peek())\n",
    "# print(pilha.pop())\n",
    "# print(pilha.peek())"
   ]
  },
  {
   "cell_type": "markdown",
   "metadata": {},
   "source": [
    "## Exercicío\n",
    "\n",
    "Inversão de Strings usando uma pilha e uma variável."
   ]
  },
  {
   "cell_type": "code",
   "execution_count": 39,
   "metadata": {},
   "outputs": [
    {
     "name": "stdout",
     "output_type": "stream",
     "text": [
      "Original: Hello, World!\n",
      "Invertida: !dlroW ,olleH\n",
      "\n",
      "Original: Python é incrível!\n",
      "Invertida: !levírcni é nohtyP\n",
      "\n",
      "Original: Felipe Luccia de Lima\n",
      "Invertida: amiL ed aiccuL epileF\n",
      "\n",
      "Original: Eu gostei dessa brincadeira\n",
      "Invertida: ariedacnirb assed ietsog uE\n",
      "\n",
      "Original: NOVA\n",
      "Invertida: AVON\n",
      "\n",
      "Original: @ 123456\n",
      "Invertida: 654321 @\n",
      "\n"
     ]
    }
   ],
   "source": [
    "def inverter_string(texto):\n",
    "    pilha = Pilha()\n",
    "    \n",
    "    for caractere in texto:\n",
    "        pilha.push(caractere)\n",
    "    \n",
    "    invertida = ''\n",
    "    while not pilha.is_empty():\n",
    "        invertida += pilha.pop()\n",
    "    \n",
    "    return invertida\n",
    "\n",
    "testes = [\n",
    "    \"Hello, World!\",\n",
    "    \"Python é incrível!\",\n",
    "    \"Felipe Luccia de Lima\",\n",
    "    \"Eu gostei dessa brincadeira\",\n",
    "    \"NOVA\",\n",
    "    \"@ 123456\"\n",
    "]\n",
    "\n",
    "for teste in testes:\n",
    "    print(f\"Original: {teste}\")\n",
    "    print(f\"Invertida: {inverter_string(teste)}\\n\")\n"
   ]
  }
 ],
 "metadata": {
  "kernelspec": {
   "display_name": "Python 3",
   "language": "python",
   "name": "python3"
  },
  "language_info": {
   "codemirror_mode": {
    "name": "ipython",
    "version": 3
   },
   "file_extension": ".py",
   "mimetype": "text/x-python",
   "name": "python",
   "nbconvert_exporter": "python",
   "pygments_lexer": "ipython3",
   "version": "3.11.9"
  }
 },
 "nbformat": 4,
 "nbformat_minor": 2
}
